{
 "cells": [
  {
   "cell_type": "code",
   "execution_count": 17,
   "id": "b395b2ca-d4d4-410a-931a-52b74f07619f",
   "metadata": {},
   "outputs": [],
   "source": [
    "def is_palindrome(word):\n",
    "    if word == word[::-1]:\n",
    "        return True\n",
    "    else: return False\n",
    "    # return True if word == word[::-1] else False"
   ]
  },
  {
   "cell_type": "code",
   "execution_count": 18,
   "id": "98bbdd58-0b11-4d6c-9b48-adf84d6f0473",
   "metadata": {},
   "outputs": [
    {
     "data": {
      "text/plain": [
       "True"
      ]
     },
     "execution_count": 18,
     "metadata": {},
     "output_type": "execute_result"
    }
   ],
   "source": [
    "is_palindrome('kayak')"
   ]
  },
  {
   "cell_type": "code",
   "execution_count": 19,
   "id": "f9228b34-76bd-4e1a-ad11-06ca0f1062e9",
   "metadata": {},
   "outputs": [
    {
     "data": {
      "text/plain": [
       "False"
      ]
     },
     "execution_count": 19,
     "metadata": {},
     "output_type": "execute_result"
    }
   ],
   "source": [
    "is_palindrome('palindrome')"
   ]
  },
  {
   "cell_type": "code",
   "execution_count": null,
   "id": "6cab3e6a-6083-415c-80da-f81bad63208e",
   "metadata": {},
   "outputs": [],
   "source": []
  }
 ],
 "metadata": {
  "kernelspec": {
   "display_name": "Python 3 (ipykernel)",
   "language": "python",
   "name": "python3"
  },
  "language_info": {
   "codemirror_mode": {
    "name": "ipython",
    "version": 3
   },
   "file_extension": ".py",
   "mimetype": "text/x-python",
   "name": "python",
   "nbconvert_exporter": "python",
   "pygments_lexer": "ipython3",
   "version": "3.10.5"
  }
 },
 "nbformat": 4,
 "nbformat_minor": 5
}
