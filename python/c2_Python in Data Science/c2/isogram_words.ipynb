{
 "cells": [
  {
   "cell_type": "code",
   "execution_count": 9,
   "id": "b075e032-b8a4-4bf3-a11b-1cd70f8f0855",
   "metadata": {},
   "outputs": [],
   "source": [
    "# find if a word is isogram (only has unique letters)\n",
    "def is_isogram(word):\n",
    "    letters = set()\n",
    "    for letter in word:\n",
    "        if letter in letters:\n",
    "            return False\n",
    "        else:\n",
    "            letters.add(letter)\n",
    "    print(letters)\n",
    "    return True"
   ]
  },
  {
   "cell_type": "code",
   "execution_count": 10,
   "id": "92378018-5382-41e9-92b1-3a260179ac8e",
   "metadata": {},
   "outputs": [
    {
     "name": "stdout",
     "output_type": "stream",
     "text": [
      "{'e', 'l', 'o', 'v', 'i', 't'}\n"
     ]
    },
    {
     "data": {
      "text/plain": [
       "True"
      ]
     },
     "execution_count": 10,
     "metadata": {},
     "output_type": "execute_result"
    }
   ],
   "source": [
    "is_isogram('violet')"
   ]
  },
  {
   "cell_type": "code",
   "execution_count": 13,
   "id": "900a62cc-1649-4408-bc78-5a94d4225596",
   "metadata": {},
   "outputs": [
    {
     "data": {
      "text/plain": [
       "False"
      ]
     },
     "execution_count": 13,
     "metadata": {},
     "output_type": "execute_result"
    }
   ],
   "source": [
    "is_isogram('velvet')"
   ]
  },
  {
   "cell_type": "code",
   "execution_count": 14,
   "id": "5db824bf-395e-4271-bb75-e86bc5b63838",
   "metadata": {},
   "outputs": [
    {
     "name": "stdout",
     "output_type": "stream",
     "text": [
      "{'e', 'l', 'V', 'v', 'E', 't'}\n"
     ]
    },
    {
     "data": {
      "text/plain": [
       "True"
      ]
     },
     "execution_count": 14,
     "metadata": {},
     "output_type": "execute_result"
    }
   ],
   "source": [
    "is_isogram('VElvet')"
   ]
  },
  {
   "cell_type": "code",
   "execution_count": 15,
   "id": "58399a3d-5d4d-4c7d-8f93-bf313d85e114",
   "metadata": {},
   "outputs": [
    {
     "data": {
      "text/plain": [
       "str"
      ]
     },
     "execution_count": 15,
     "metadata": {},
     "output_type": "execute_result"
    }
   ],
   "source": []
  },
  {
   "cell_type": "code",
   "execution_count": null,
   "id": "4f5f54c9-5503-4e5e-a74b-8333e3ba044d",
   "metadata": {},
   "outputs": [],
   "source": []
  }
 ],
 "metadata": {
  "kernelspec": {
   "display_name": "Python 3 (ipykernel)",
   "language": "python",
   "name": "python3"
  },
  "language_info": {
   "codemirror_mode": {
    "name": "ipython",
    "version": 3
   },
   "file_extension": ".py",
   "mimetype": "text/x-python",
   "name": "python",
   "nbconvert_exporter": "python",
   "pygments_lexer": "ipython3",
   "version": "3.10.5"
  }
 },
 "nbformat": 4,
 "nbformat_minor": 5
}
