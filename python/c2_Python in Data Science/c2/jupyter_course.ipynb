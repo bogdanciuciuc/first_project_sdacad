{
 "cells": [
  {
   "cell_type": "code",
   "execution_count": 1,
   "id": "c5fea952-e702-4a0c-8646-80267cdc5bbf",
   "metadata": {},
   "outputs": [
    {
     "data": {
      "text/plain": [
       "([0, 1, 2, 3, 4, 5, 6, 7, 8, 9], [0, 2, 4, 6, 8, 10, 12, 14, 16, 18])"
      ]
     },
     "execution_count": 1,
     "metadata": {},
     "output_type": "execute_result"
    }
   ],
   "source": [
    "x = list(range(10))\n",
    "y = [2* value for value in x]\n",
    "x,y"
   ]
  },
  {
   "cell_type": "code",
   "execution_count": 2,
   "id": "e1da0e54-5a3a-410f-b90a-9e68ff4b65e9",
   "metadata": {},
   "outputs": [],
   "source": [
    "my_list = []\n",
    "for value in x:\n",
    "    my_list.append(2*x)"
   ]
  },
  {
   "cell_type": "code",
   "execution_count": 3,
   "id": "eaa2d57c-e585-48ff-9490-5532520daa49",
   "metadata": {},
   "outputs": [],
   "source": [
    "import matplotlib.pyplot as plt"
   ]
  },
  {
   "cell_type": "code",
   "execution_count": 4,
   "id": "c641b289-8471-49bc-8aa8-c7f98861bedf",
   "metadata": {},
   "outputs": [],
   "source": [
    "import matplotlib"
   ]
  },
  {
   "cell_type": "code",
   "execution_count": 6,
   "id": "9dc76c39-b951-4890-b72f-fc08161964e6",
   "metadata": {},
   "outputs": [
    {
     "data": {
      "image/png": "[encoded data removed]",
      "text/plain": [
       "<Figure size 432x288 with 1 Axes>"
      ]
     },
     "metadata": {
      "needs_background": "light"
     },
     "output_type": "display_data"
    }
   ],
   "source": [
    "z=[3*value for value in x]\n",
    "plt.plot(z, y)\n",
    "plt.show()"
   ]
  },
  {
   "cell_type": "code",
   "execution_count": null,
   "id": "833f24fb-02c5-46ec-a022-dde308d1bb2e",
   "metadata": {},
   "outputs": [],
   "source": []
  }
 ],
 "metadata": {
  "kernelspec": {
   "display_name": "Python 3 (ipykernel)",
   "language": "python",
   "name": "python3"
  },
  "language_info": {
   "codemirror_mode": {
    "name": "ipython",
    "version": 3
   },
   "file_extension": ".py",
   "mimetype": "text/x-python",
   "name": "python",
   "nbconvert_exporter": "python",
   "pygments_lexer": "ipython3",
   "version": "3.10.5"
  }
 },
 "nbformat": 4,
 "nbformat_minor": 5
}
